{
 "cells": [
  {
   "cell_type": "code",
   "execution_count": 1,
   "metadata": {},
   "outputs": [],
   "source": [
    "from bs4 import BeautifulSoup\n",
    "import requests\n",
    "import pandas as pd\n",
    "import re\n",
    "from tqdm import tqdm"
   ]
  },
  {
   "cell_type": "code",
   "execution_count": 2,
   "metadata": {},
   "outputs": [],
   "source": [
    "pkn_kerken  = requests.get('https://protestantsekerk.nl/kerkzoeker/?json').json()['churches']"
   ]
  },
  {
   "cell_type": "code",
   "execution_count": 6,
   "metadata": {},
   "outputs": [
    {
     "name": "stderr",
     "output_type": "stream",
     "text": [
      "100%|██████████| 50/50 [00:39<00:00,  1.27it/s]\n"
     ]
    }
   ],
   "source": [
    "def extract_emails_from_page(url: str) -> list[str]:\n",
    "    try:\n",
    "        response = requests.get(url)\n",
    "        soup = BeautifulSoup(response.content, \"html.parser\")\n",
    "        emails = re.findall(\n",
    "            r\"[a-zA-Z0-9._%+-]+@[a-zA-Z0-9.-]+\\.[a-zA-Z]{2,}\", soup.text\n",
    "        )\n",
    "    except Exception as e:\n",
    "        emails = [e]\n",
    "    return emails\n",
    "\n",
    "\n",
    "kerk_urls = [kerk[\"website\"] for kerk in pkn_kerken[:50]]\n",
    "kerk_emails = {}\n",
    "\n",
    "for kerk_url in tqdm(kerk_urls):\n",
    "    emails = extract_emails_from_page(kerk_url)\n",
    "    kerk_emails[kerk_url] = emails"
   ]
  },
  {
   "cell_type": "code",
   "execution_count": 7,
   "metadata": {},
   "outputs": [],
   "source": [
    "# Prepare data for DataFrame\n",
    "rows = []\n",
    "for key, values in kerk_emails.items():\n",
    "    if values:\n",
    "        for value in values:\n",
    "            rows.append((key, value))\n",
    "    else:\n",
    "        rows.append((key, None))\n",
    "\n",
    "# Create DataFrame\n",
    "df = pd.DataFrame(rows, columns=['URL', 'Email'])\n",
    "df = df[df['Email'].str.contains(r'[a-zA-Z0-9._%+-]+@[a-zA-Z0-9.-]+\\.[a-zA-Z]{2,}', na=False)]"
   ]
  },
  {
   "cell_type": "code",
   "execution_count": 8,
   "metadata": {},
   "outputs": [],
   "source": [
    "df.to_excel('kerk_emails_via_hoofdpagina.xlsx')\n"
   ]
  },
  {
   "cell_type": "code",
   "execution_count": 29,
   "metadata": {},
   "outputs": [],
   "source": [
    "kerk_emails"
   ]
  },
  {
   "cell_type": "code",
   "execution_count": null,
   "metadata": {},
   "outputs": [],
   "source": []
  }
 ],
 "metadata": {
  "kernelspec": {
   "display_name": ".env",
   "language": "python",
   "name": "python3"
  },
  "language_info": {
   "codemirror_mode": {
    "name": "ipython",
    "version": 3
   },
   "file_extension": ".py",
   "mimetype": "text/x-python",
   "name": "python",
   "nbconvert_exporter": "python",
   "pygments_lexer": "ipython3",
   "version": "3.12.7"
  }
 },
 "nbformat": 4,
 "nbformat_minor": 2
}
