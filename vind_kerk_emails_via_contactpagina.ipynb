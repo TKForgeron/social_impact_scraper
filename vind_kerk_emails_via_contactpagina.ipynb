{
 "cells": [
  {
   "cell_type": "code",
   "execution_count": 20,
   "metadata": {},
   "outputs": [],
   "source": [
    "from bs4 import BeautifulSoup\n",
    "import requests\n",
    "import pandas as pd\n",
    "import re\n",
    "import concurrent.futures\n",
    "from tqdm import tqdm\n",
    "EMAIL_REGEX = r\"[a-zA-Z0-9._%+-]+@[a-zA-Z0-9.-]+\\.[a-zA-Z]{2,}\""
   ]
  },
  {
   "cell_type": "code",
   "execution_count": 24,
   "metadata": {},
   "outputs": [],
   "source": [
    "def get_contact_page_urls(\n",
    "    main_url: str,\n",
    "    contact_page_keywords: list[str] = [\"contact\"],\n",
    ") -> list[str]:\n",
    "    try:\n",
    "        response = requests.get(main_url)\n",
    "        soup = BeautifulSoup(response.content, \"html.parser\")\n",
    "        contact_urls = []\n",
    "        for link in soup.find_all(\"a\", href=True):\n",
    "            if any(\n",
    "                keyword in link[\"href\"].lower() for keyword in contact_page_keywords\n",
    "            ):\n",
    "                contact_urls.append(link[\"href\"])\n",
    "        return contact_urls\n",
    "    except Exception as e:\n",
    "        return [e]\n",
    "\n",
    "\n",
    "def extract_emails_from_page(url: str,email_regex:str) -> list[str]:\n",
    "    try:\n",
    "        response = requests.get(url)\n",
    "        soup = BeautifulSoup(response.content, \"html.parser\")\n",
    "\n",
    "\n",
    "        emails = re.findall(email_regex, soup.text\n",
    "        )\n",
    "    except Exception as e:\n",
    "        emails = [e]\n",
    "\n",
    "    return emails\n",
    "\n",
    "\n",
    "\n",
    "pkn_kerken = requests.get(\"https://protestantsekerk.nl/kerkzoeker/?json\").json()[\n",
    "    \"churches\"\n",
    "]\n",
    "contact_page_keywords = [\n",
    "    \"contact\",\n",
    "    \"about\",\n",
    "    \"over ons\",\n",
    "    \"anbi\",\n",
    "    \"gegevens\",\n",
    "    \"info\",\n",
    "    \"wie\",\n",
    "    \"geven\",\n",
    "    \"give\",\n",
    "    \"gift\",\n",
    "    \"donatie\",\n",
    "    \"doneren\",\n",
    "    \"doneer\",\n",
    "]\n",
    "kerk_urls = [kerk[\"website\"] for kerk in pkn_kerken[:50]]\n"
   ]
  },
  {
   "cell_type": "code",
   "execution_count": 25,
   "metadata": {},
   "outputs": [
    {
     "name": "stderr",
     "output_type": "stream",
     "text": [
      "  0%|          | 0/50 [00:00<?, ?it/s]Some characters could not be decoded, and were replaced with REPLACEMENT CHARACTER.\n",
      "100%|██████████| 50/50 [00:34<00:00,  1.47it/s]\n"
     ]
    }
   ],
   "source": [
    "\n",
    "def process_kerk_url(kerk_url):\n",
    "    contact_pages = get_contact_page_urls(kerk_url, contact_page_keywords)\n",
    "    emails = [\n",
    "        email for page in contact_pages for email in extract_emails_from_page(page, EMAIL_REGEX)\n",
    "    ]\n",
    "    return kerk_url, emails\n",
    "\n",
    "\n",
    "with concurrent.futures.ThreadPoolExecutor() as executor:\n",
    "    results = list(\n",
    "        tqdm(executor.map(process_kerk_url, kerk_urls), total=len(kerk_urls))\n",
    "    )\n",
    "\n",
    "kerk_emails = {kerk_url: emails for kerk_url, emails in results}"
   ]
  },
  {
   "cell_type": "code",
   "execution_count": null,
   "metadata": {},
   "outputs": [],
   "source": [
    "# Prepare data for DataFrame\n",
    "rows = []\n",
    "for key, values in kerk_emails.items():\n",
    "    if values:\n",
    "        for value in values:\n",
    "            rows.append((key, value))\n",
    "    else:\n",
    "        rows.append((key, None))\n",
    "\n",
    "# Create DataFrame\n",
    "df = pd.DataFrame(rows, columns=[\"URL\", \"Email\"])\n",
    "df = df[\n",
    "    df[\"Email\"].str.contains(\n",
    "        EMAIL_REGEX, na=False\n",
    "    )\n",
    "]"
   ]
  },
  {
   "cell_type": "code",
   "execution_count": 28,
   "metadata": {},
   "outputs": [],
   "source": [
    "df.to_excel(\"kerk_emails_via_contactpagina.xlsx\")"
   ]
  }
 ],
 "metadata": {
  "kernelspec": {
   "display_name": ".env",
   "language": "python",
   "name": "python3"
  },
  "language_info": {
   "codemirror_mode": {
    "name": "ipython",
    "version": 3
   },
   "file_extension": ".py",
   "mimetype": "text/x-python",
   "name": "python",
   "nbconvert_exporter": "python",
   "pygments_lexer": "ipython3",
   "version": "3.12.7"
  }
 },
 "nbformat": 4,
 "nbformat_minor": 2
}
